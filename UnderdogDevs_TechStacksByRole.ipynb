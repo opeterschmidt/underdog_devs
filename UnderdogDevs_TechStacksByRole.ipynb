{
  "cells": [
    {
      "cell_type": "code",
      "execution_count": 75,
      "metadata": {
        "id": "vdmXdfjgPCAi"
      },
      "outputs": [],
      "source": [
        "import requests\n",
        "import pandas as pd\n",
        "import altair as alt\n",
        "import json\n",
        "\n",
        "from sklearn.preprocessing import MultiLabelBinarizer"
      ]
    },
    {
      "cell_type": "markdown",
      "metadata": {
        "id": "VjDz6DqIPtX6"
      },
      "source": [
        "## Connecting to MongoDB and loading Underdog Devs data into dataframes"
      ]
    },
    {
      "cell_type": "code",
      "execution_count": 99,
      "metadata": {
        "id": "idn97ko9QL9i"
      },
      "outputs": [],
      "source": [
        "mentees = pd.DataFrame(requests.post(\"http://underdog-devs-ds-a-dev.us-east-1.elasticbeanstalk.com/Mentees/read\").json()[\"result\"])[['tech_stack']]\n",
        "mentors = pd.DataFrame(requests.post(\"http://underdog-devs-ds-a-dev.us-east-1.elasticbeanstalk.com/Mentors/read\").json()[\"result\"])[['tech_stack']]\n",
        "\n",
        "mentees['user_role'] = 'Mentee'\n",
        "mentors['user_role'] = 'Mentor'"
      ]
    },
    {
      "cell_type": "code",
      "execution_count": 52,
      "metadata": {
        "colab": {
          "base_uri": "https://localhost:8080/",
          "height": 206
        },
        "id": "gp9AH_oIQ-kx",
        "outputId": "f0b15010-8b94-4a9d-db42-db9f0958a776"
      },
      "outputs": [
        {
          "data": {
            "text/html": [
              "<div>\n",
              "<style scoped>\n",
              "    .dataframe tbody tr th:only-of-type {\n",
              "        vertical-align: middle;\n",
              "    }\n",
              "\n",
              "    .dataframe tbody tr th {\n",
              "        vertical-align: top;\n",
              "    }\n",
              "\n",
              "    .dataframe thead th {\n",
              "        text-align: right;\n",
              "    }\n",
              "</style>\n",
              "<table border=\"1\" class=\"dataframe\">\n",
              "  <thead>\n",
              "    <tr style=\"text-align: right;\">\n",
              "      <th></th>\n",
              "      <th>tech_stack</th>\n",
              "      <th>user_role</th>\n",
              "    </tr>\n",
              "  </thead>\n",
              "  <tbody>\n",
              "    <tr>\n",
              "      <th>0</th>\n",
              "      <td>iOS</td>\n",
              "      <td>Mentee</td>\n",
              "    </tr>\n",
              "    <tr>\n",
              "      <th>1</th>\n",
              "      <td>Frontend</td>\n",
              "      <td>Mentee</td>\n",
              "    </tr>\n",
              "    <tr>\n",
              "      <th>2</th>\n",
              "      <td>Backend</td>\n",
              "      <td>Mentee</td>\n",
              "    </tr>\n",
              "    <tr>\n",
              "      <th>3</th>\n",
              "      <td>Android</td>\n",
              "      <td>Mentee</td>\n",
              "    </tr>\n",
              "    <tr>\n",
              "      <th>4</th>\n",
              "      <td>Career Development</td>\n",
              "      <td>Mentee</td>\n",
              "    </tr>\n",
              "  </tbody>\n",
              "</table>\n",
              "</div>"
            ],
            "text/plain": [
              "           tech_stack user_role\n",
              "0                 iOS    Mentee\n",
              "1            Frontend    Mentee\n",
              "2             Backend    Mentee\n",
              "3             Android    Mentee\n",
              "4  Career Development    Mentee"
            ]
          },
          "execution_count": 52,
          "metadata": {},
          "output_type": "execute_result"
        }
      ],
      "source": [
        "mentees.head()"
      ]
    },
    {
      "cell_type": "code",
      "execution_count": 53,
      "metadata": {
        "colab": {
          "base_uri": "https://localhost:8080/",
          "height": 206
        },
        "id": "aC-wdTKfRBBD",
        "outputId": "b9c850bd-b4c4-4f85-9fd8-ff9f9b61cccf"
      },
      "outputs": [
        {
          "data": {
            "text/html": [
              "<div>\n",
              "<style scoped>\n",
              "    .dataframe tbody tr th:only-of-type {\n",
              "        vertical-align: middle;\n",
              "    }\n",
              "\n",
              "    .dataframe tbody tr th {\n",
              "        vertical-align: top;\n",
              "    }\n",
              "\n",
              "    .dataframe thead th {\n",
              "        text-align: right;\n",
              "    }\n",
              "</style>\n",
              "<table border=\"1\" class=\"dataframe\">\n",
              "  <thead>\n",
              "    <tr style=\"text-align: right;\">\n",
              "      <th></th>\n",
              "      <th>tech_stack</th>\n",
              "      <th>user_role</th>\n",
              "    </tr>\n",
              "  </thead>\n",
              "  <tbody>\n",
              "    <tr>\n",
              "      <th>0</th>\n",
              "      <td>[Design UI/UX, Android, Career Development]</td>\n",
              "      <td>Mentor</td>\n",
              "    </tr>\n",
              "    <tr>\n",
              "      <th>1</th>\n",
              "      <td>[Frontend]</td>\n",
              "      <td>Mentor</td>\n",
              "    </tr>\n",
              "    <tr>\n",
              "      <th>2</th>\n",
              "      <td>[Frontend, Android]</td>\n",
              "      <td>Mentor</td>\n",
              "    </tr>\n",
              "    <tr>\n",
              "      <th>3</th>\n",
              "      <td>[Design UI/UX, Android, Frontend]</td>\n",
              "      <td>Mentor</td>\n",
              "    </tr>\n",
              "    <tr>\n",
              "      <th>4</th>\n",
              "      <td>[Design UI/UX]</td>\n",
              "      <td>Mentor</td>\n",
              "    </tr>\n",
              "  </tbody>\n",
              "</table>\n",
              "</div>"
            ],
            "text/plain": [
              "                                    tech_stack user_role\n",
              "0  [Design UI/UX, Android, Career Development]    Mentor\n",
              "1                                   [Frontend]    Mentor\n",
              "2                          [Frontend, Android]    Mentor\n",
              "3            [Design UI/UX, Android, Frontend]    Mentor\n",
              "4                               [Design UI/UX]    Mentor"
            ]
          },
          "execution_count": 53,
          "metadata": {},
          "output_type": "execute_result"
        }
      ],
      "source": [
        "mentors.head()"
      ]
    },
    {
      "cell_type": "markdown",
      "metadata": {},
      "source": [
        "## EDA and wrangling"
      ]
    },
    {
      "cell_type": "markdown",
      "metadata": {
        "id": "kh7ZrK5VTlJu"
      },
      "source": [
        "### Removing placeholder observations\n",
        "\n",
        "As the database is still populated with  mock data, there are some \"string\" placeholders that should be cleaned up"
      ]
    },
    {
      "cell_type": "code",
      "execution_count": 91,
      "metadata": {},
      "outputs": [],
      "source": [
        "mentors = mentors[:20]"
      ]
    },
    {
      "cell_type": "code",
      "execution_count": 56,
      "metadata": {},
      "outputs": [
        {
          "data": {
            "text/plain": [
              "Backend               21\n",
              "Data Science          20\n",
              "Career Development    18\n",
              "iOS                   14\n",
              "Frontend              11\n",
              "string                11\n",
              "Design UI/UX          10\n",
              "Android                6\n",
              "st4ing                 2\n",
              "Name: tech_stack, dtype: int64"
            ]
          },
          "execution_count": 56,
          "metadata": {},
          "output_type": "execute_result"
        }
      ],
      "source": [
        "mentees[\"tech_stack\"].value_counts()"
      ]
    },
    {
      "cell_type": "markdown",
      "metadata": {},
      "source": [
        "Filtering out where `mentees tech_stack` is either `\"string\"` or `\"st4ing\"`"
      ]
    },
    {
      "cell_type": "code",
      "execution_count": 100,
      "metadata": {},
      "outputs": [],
      "source": [
        "mask = mentees[\"tech_stack\"] != \"st4ing\"\n",
        "mentees = mentees[mask]"
      ]
    },
    {
      "cell_type": "code",
      "execution_count": 101,
      "metadata": {},
      "outputs": [],
      "source": [
        "mask = mentees[\"tech_stack\"] != \"string\"\n",
        "mentees = mentees[mask]"
      ]
    },
    {
      "cell_type": "markdown",
      "metadata": {
        "id": "540L7-dVROYR"
      },
      "source": [
        "###  Checking data types in tech_stack feature\n",
        "\n"
      ]
    },
    {
      "cell_type": "code",
      "execution_count": 65,
      "metadata": {
        "colab": {
          "base_uri": "https://localhost:8080/"
        },
        "id": "R4X4eUpYRFIu",
        "outputId": "8595ef1d-72f4-4a77-e13b-736a212525b8"
      },
      "outputs": [
        {
          "name": "stdout",
          "output_type": "stream",
          "text": [
            "list 0 is <class 'str'>\n",
            "list 1 is <class 'str'>\n",
            "list 2 is <class 'str'>\n",
            "list 3 is <class 'str'>\n",
            "list 4 is <class 'str'>\n",
            "list 5 is <class 'str'>\n",
            "list 6 is <class 'str'>\n",
            "list 7 is <class 'str'>\n",
            "list 8 is <class 'str'>\n",
            "list 9 is <class 'str'>\n"
          ]
        }
      ],
      "source": [
        "for i, l in enumerate(mentees['tech_stack'][:10]):\n",
        "    print(\"list\",i,\"is\",type(l))"
      ]
    },
    {
      "cell_type": "code",
      "execution_count": 66,
      "metadata": {
        "colab": {
          "base_uri": "https://localhost:8080/"
        },
        "id": "CyP5IDzARX75",
        "outputId": "b65578f4-0ec0-48f0-a588-07fd4b00b6ad"
      },
      "outputs": [
        {
          "name": "stdout",
          "output_type": "stream",
          "text": [
            "list 0 is <class 'list'>\n",
            "list 1 is <class 'list'>\n",
            "list 2 is <class 'list'>\n",
            "list 3 is <class 'list'>\n",
            "list 4 is <class 'list'>\n",
            "list 5 is <class 'list'>\n",
            "list 6 is <class 'list'>\n",
            "list 7 is <class 'list'>\n",
            "list 8 is <class 'list'>\n",
            "list 9 is <class 'list'>\n"
          ]
        }
      ],
      "source": [
        "for i, l in enumerate(mentors['tech_stack'][:10]):\n",
        "    print(\"list\",i,\"is\",type(l))"
      ]
    },
    {
      "cell_type": "markdown",
      "metadata": {
        "id": "EsYkX-spRj9S"
      },
      "source": [
        "`mentees` contains strings, `mentors` contains lists. This will need to be resolved so that they are the same data type."
      ]
    },
    {
      "cell_type": "markdown",
      "metadata": {
        "id": "pNN0znsKS72L"
      },
      "source": [
        "### Checking for null values"
      ]
    },
    {
      "cell_type": "code",
      "execution_count": 67,
      "metadata": {},
      "outputs": [
        {
          "data": {
            "text/plain": [
              "tech_stack    0\n",
              "user_role     0\n",
              "dtype: int64"
            ]
          },
          "execution_count": 67,
          "metadata": {},
          "output_type": "execute_result"
        }
      ],
      "source": [
        "mentees.isnull().sum()"
      ]
    },
    {
      "cell_type": "code",
      "execution_count": 68,
      "metadata": {},
      "outputs": [
        {
          "data": {
            "text/plain": [
              "tech_stack    0\n",
              "user_role     0\n",
              "dtype: int64"
            ]
          },
          "execution_count": 68,
          "metadata": {},
          "output_type": "execute_result"
        }
      ],
      "source": [
        "mentors.isnull().sum()"
      ]
    },
    {
      "cell_type": "markdown",
      "metadata": {},
      "source": [
        "There are no null values in either data frame."
      ]
    },
    {
      "cell_type": "markdown",
      "metadata": {
        "id": "jjlkkKvNSDlD"
      },
      "source": [
        "### Converting `mentee` tech_stack strings to lists\n",
        "\n",
        "`mentee tech_stack` objects must be converted to lists in order to work with sklearn's `MultiLabelBinarizer`"
      ]
    },
    {
      "cell_type": "code",
      "execution_count": 102,
      "metadata": {
        "colab": {
          "base_uri": "https://localhost:8080/"
        },
        "id": "WE0DnJrjRc4x",
        "outputId": "109d6ef1-a594-4c01-c8f2-2232610a1435"
      },
      "outputs": [
        {
          "data": {
            "text/plain": [
              "['Lorem ipsum']"
            ]
          },
          "execution_count": 102,
          "metadata": {},
          "output_type": "execute_result"
        }
      ],
      "source": [
        "def put_string_into_list(stack):\n",
        "    return [stack]\n",
        "\n",
        "stack = 'Lorem ipsum'\n",
        "put_string_into_list(stack)"
      ]
    },
    {
      "cell_type": "code",
      "execution_count": 103,
      "metadata": {
        "id": "cRrOmEneSYek"
      },
      "outputs": [],
      "source": [
        "mentees['tech_stack'] = mentees['tech_stack'].apply(put_string_into_list)"
      ]
    },
    {
      "cell_type": "code",
      "execution_count": 104,
      "metadata": {
        "colab": {
          "base_uri": "https://localhost:8080/",
          "height": 206
        },
        "id": "AETeekiQS0e7",
        "outputId": "4201a969-038c-4436-997a-5975b4fec60e"
      },
      "outputs": [
        {
          "data": {
            "text/html": [
              "<div>\n",
              "<style scoped>\n",
              "    .dataframe tbody tr th:only-of-type {\n",
              "        vertical-align: middle;\n",
              "    }\n",
              "\n",
              "    .dataframe tbody tr th {\n",
              "        vertical-align: top;\n",
              "    }\n",
              "\n",
              "    .dataframe thead th {\n",
              "        text-align: right;\n",
              "    }\n",
              "</style>\n",
              "<table border=\"1\" class=\"dataframe\">\n",
              "  <thead>\n",
              "    <tr style=\"text-align: right;\">\n",
              "      <th></th>\n",
              "      <th>tech_stack</th>\n",
              "      <th>user_role</th>\n",
              "    </tr>\n",
              "  </thead>\n",
              "  <tbody>\n",
              "    <tr>\n",
              "      <th>0</th>\n",
              "      <td>[iOS]</td>\n",
              "      <td>Mentee</td>\n",
              "    </tr>\n",
              "    <tr>\n",
              "      <th>1</th>\n",
              "      <td>[Frontend]</td>\n",
              "      <td>Mentee</td>\n",
              "    </tr>\n",
              "    <tr>\n",
              "      <th>2</th>\n",
              "      <td>[Backend]</td>\n",
              "      <td>Mentee</td>\n",
              "    </tr>\n",
              "    <tr>\n",
              "      <th>3</th>\n",
              "      <td>[Android]</td>\n",
              "      <td>Mentee</td>\n",
              "    </tr>\n",
              "    <tr>\n",
              "      <th>4</th>\n",
              "      <td>[Career Development]</td>\n",
              "      <td>Mentee</td>\n",
              "    </tr>\n",
              "  </tbody>\n",
              "</table>\n",
              "</div>"
            ],
            "text/plain": [
              "             tech_stack user_role\n",
              "0                 [iOS]    Mentee\n",
              "1            [Frontend]    Mentee\n",
              "2             [Backend]    Mentee\n",
              "3             [Android]    Mentee\n",
              "4  [Career Development]    Mentee"
            ]
          },
          "execution_count": 104,
          "metadata": {},
          "output_type": "execute_result"
        }
      ],
      "source": [
        "mentees.head()"
      ]
    },
    {
      "cell_type": "markdown",
      "metadata": {},
      "source": [
        "Double checking `tech_stack` data types"
      ]
    },
    {
      "cell_type": "code",
      "execution_count": 72,
      "metadata": {
        "colab": {
          "base_uri": "https://localhost:8080/"
        },
        "id": "ryOqL9oWTcoy",
        "outputId": "e839e61d-5040-470f-a523-1201a2e8fee2"
      },
      "outputs": [
        {
          "name": "stdout",
          "output_type": "stream",
          "text": [
            "list 0 is <class 'list'>\n",
            "list 1 is <class 'list'>\n",
            "list 2 is <class 'list'>\n",
            "list 3 is <class 'list'>\n",
            "list 4 is <class 'list'>\n",
            "list 5 is <class 'list'>\n",
            "list 6 is <class 'list'>\n",
            "list 7 is <class 'list'>\n",
            "list 8 is <class 'list'>\n",
            "list 9 is <class 'list'>\n"
          ]
        }
      ],
      "source": [
        "for i, l in enumerate(mentees['tech_stack'][:10]):\n",
        "    print(\"list\",i,\"is\",type(l))"
      ]
    },
    {
      "cell_type": "markdown",
      "metadata": {
        "id": "2HSzu6wuGoHE"
      },
      "source": [
        "### Creating one-hot encoded Mentee and Mentor dataframes"
      ]
    },
    {
      "cell_type": "markdown",
      "metadata": {
        "id": "PhCtmTvDICP7"
      },
      "source": [
        "##### Mentees data frame"
      ]
    },
    {
      "cell_type": "code",
      "execution_count": 105,
      "metadata": {
        "id": "pY-OqnGSHd_S"
      },
      "outputs": [],
      "source": [
        "mlb = MultiLabelBinarizer()\n",
        "mentees_encoded = mentees.join(pd.DataFrame(mlb.fit_transform(\n",
        "                                                mentees['tech_stack']),\n",
        "                                                columns=mlb.classes_,\n",
        "                                                index=mentees.index))"
      ]
    },
    {
      "cell_type": "code",
      "execution_count": 106,
      "metadata": {
        "colab": {
          "base_uri": "https://localhost:8080/",
          "height": 502
        },
        "id": "aq30ob4jHxc0",
        "outputId": "160e5c6e-c8b7-44ff-f3d4-c45d4f957d61"
      },
      "outputs": [
        {
          "data": {
            "text/html": [
              "<div>\n",
              "<style scoped>\n",
              "    .dataframe tbody tr th:only-of-type {\n",
              "        vertical-align: middle;\n",
              "    }\n",
              "\n",
              "    .dataframe tbody tr th {\n",
              "        vertical-align: top;\n",
              "    }\n",
              "\n",
              "    .dataframe thead th {\n",
              "        text-align: right;\n",
              "    }\n",
              "</style>\n",
              "<table border=\"1\" class=\"dataframe\">\n",
              "  <thead>\n",
              "    <tr style=\"text-align: right;\">\n",
              "      <th></th>\n",
              "      <th>tech_stack</th>\n",
              "      <th>user_role</th>\n",
              "      <th>Android</th>\n",
              "      <th>Backend</th>\n",
              "      <th>Career Development</th>\n",
              "      <th>Data Science</th>\n",
              "      <th>Design UI/UX</th>\n",
              "      <th>Frontend</th>\n",
              "      <th>iOS</th>\n",
              "    </tr>\n",
              "  </thead>\n",
              "  <tbody>\n",
              "    <tr>\n",
              "      <th>0</th>\n",
              "      <td>[iOS]</td>\n",
              "      <td>Mentee</td>\n",
              "      <td>0</td>\n",
              "      <td>0</td>\n",
              "      <td>0</td>\n",
              "      <td>0</td>\n",
              "      <td>0</td>\n",
              "      <td>0</td>\n",
              "      <td>1</td>\n",
              "    </tr>\n",
              "    <tr>\n",
              "      <th>1</th>\n",
              "      <td>[Frontend]</td>\n",
              "      <td>Mentee</td>\n",
              "      <td>0</td>\n",
              "      <td>0</td>\n",
              "      <td>0</td>\n",
              "      <td>0</td>\n",
              "      <td>0</td>\n",
              "      <td>1</td>\n",
              "      <td>0</td>\n",
              "    </tr>\n",
              "    <tr>\n",
              "      <th>2</th>\n",
              "      <td>[Backend]</td>\n",
              "      <td>Mentee</td>\n",
              "      <td>0</td>\n",
              "      <td>1</td>\n",
              "      <td>0</td>\n",
              "      <td>0</td>\n",
              "      <td>0</td>\n",
              "      <td>0</td>\n",
              "      <td>0</td>\n",
              "    </tr>\n",
              "    <tr>\n",
              "      <th>3</th>\n",
              "      <td>[Android]</td>\n",
              "      <td>Mentee</td>\n",
              "      <td>1</td>\n",
              "      <td>0</td>\n",
              "      <td>0</td>\n",
              "      <td>0</td>\n",
              "      <td>0</td>\n",
              "      <td>0</td>\n",
              "      <td>0</td>\n",
              "    </tr>\n",
              "    <tr>\n",
              "      <th>4</th>\n",
              "      <td>[Career Development]</td>\n",
              "      <td>Mentee</td>\n",
              "      <td>0</td>\n",
              "      <td>0</td>\n",
              "      <td>1</td>\n",
              "      <td>0</td>\n",
              "      <td>0</td>\n",
              "      <td>0</td>\n",
              "      <td>0</td>\n",
              "    </tr>\n",
              "  </tbody>\n",
              "</table>\n",
              "</div>"
            ],
            "text/plain": [
              "             tech_stack user_role  Android  Backend  Career Development  \\\n",
              "0                 [iOS]    Mentee        0        0                   0   \n",
              "1            [Frontend]    Mentee        0        0                   0   \n",
              "2             [Backend]    Mentee        0        1                   0   \n",
              "3             [Android]    Mentee        1        0                   0   \n",
              "4  [Career Development]    Mentee        0        0                   1   \n",
              "\n",
              "   Data Science  Design UI/UX  Frontend  iOS  \n",
              "0             0             0         0    1  \n",
              "1             0             0         1    0  \n",
              "2             0             0         0    0  \n",
              "3             0             0         0    0  \n",
              "4             0             0         0    0  "
            ]
          },
          "execution_count": 106,
          "metadata": {},
          "output_type": "execute_result"
        }
      ],
      "source": [
        "mentees_encoded.head()"
      ]
    },
    {
      "cell_type": "markdown",
      "metadata": {},
      "source": [
        "Adjust `user_role` column title for better visualization display"
      ]
    },
    {
      "cell_type": "code",
      "execution_count": 107,
      "metadata": {
        "id": "uk5uWBr3I1T8"
      },
      "outputs": [],
      "source": [
        "mentees_encoded.rename(columns={\"user_role\": \"User Role\"}, inplace=True)"
      ]
    },
    {
      "cell_type": "code",
      "execution_count": 108,
      "metadata": {
        "colab": {
          "base_uri": "https://localhost:8080/",
          "height": 502
        },
        "id": "LjFawcQDJaKs",
        "outputId": "1bdcc6c8-9e71-4bd9-9ae5-e009dee91e25"
      },
      "outputs": [
        {
          "data": {
            "text/html": [
              "<div>\n",
              "<style scoped>\n",
              "    .dataframe tbody tr th:only-of-type {\n",
              "        vertical-align: middle;\n",
              "    }\n",
              "\n",
              "    .dataframe tbody tr th {\n",
              "        vertical-align: top;\n",
              "    }\n",
              "\n",
              "    .dataframe thead th {\n",
              "        text-align: right;\n",
              "    }\n",
              "</style>\n",
              "<table border=\"1\" class=\"dataframe\">\n",
              "  <thead>\n",
              "    <tr style=\"text-align: right;\">\n",
              "      <th></th>\n",
              "      <th>tech_stack</th>\n",
              "      <th>User Role</th>\n",
              "      <th>Android</th>\n",
              "      <th>Backend</th>\n",
              "      <th>Career Development</th>\n",
              "      <th>Data Science</th>\n",
              "      <th>Design UI/UX</th>\n",
              "      <th>Frontend</th>\n",
              "      <th>iOS</th>\n",
              "    </tr>\n",
              "  </thead>\n",
              "  <tbody>\n",
              "    <tr>\n",
              "      <th>0</th>\n",
              "      <td>[iOS]</td>\n",
              "      <td>Mentee</td>\n",
              "      <td>0</td>\n",
              "      <td>0</td>\n",
              "      <td>0</td>\n",
              "      <td>0</td>\n",
              "      <td>0</td>\n",
              "      <td>0</td>\n",
              "      <td>1</td>\n",
              "    </tr>\n",
              "    <tr>\n",
              "      <th>1</th>\n",
              "      <td>[Frontend]</td>\n",
              "      <td>Mentee</td>\n",
              "      <td>0</td>\n",
              "      <td>0</td>\n",
              "      <td>0</td>\n",
              "      <td>0</td>\n",
              "      <td>0</td>\n",
              "      <td>1</td>\n",
              "      <td>0</td>\n",
              "    </tr>\n",
              "    <tr>\n",
              "      <th>2</th>\n",
              "      <td>[Backend]</td>\n",
              "      <td>Mentee</td>\n",
              "      <td>0</td>\n",
              "      <td>1</td>\n",
              "      <td>0</td>\n",
              "      <td>0</td>\n",
              "      <td>0</td>\n",
              "      <td>0</td>\n",
              "      <td>0</td>\n",
              "    </tr>\n",
              "    <tr>\n",
              "      <th>3</th>\n",
              "      <td>[Android]</td>\n",
              "      <td>Mentee</td>\n",
              "      <td>1</td>\n",
              "      <td>0</td>\n",
              "      <td>0</td>\n",
              "      <td>0</td>\n",
              "      <td>0</td>\n",
              "      <td>0</td>\n",
              "      <td>0</td>\n",
              "    </tr>\n",
              "    <tr>\n",
              "      <th>4</th>\n",
              "      <td>[Career Development]</td>\n",
              "      <td>Mentee</td>\n",
              "      <td>0</td>\n",
              "      <td>0</td>\n",
              "      <td>1</td>\n",
              "      <td>0</td>\n",
              "      <td>0</td>\n",
              "      <td>0</td>\n",
              "      <td>0</td>\n",
              "    </tr>\n",
              "  </tbody>\n",
              "</table>\n",
              "</div>"
            ],
            "text/plain": [
              "             tech_stack User Role  Android  Backend  Career Development  \\\n",
              "0                 [iOS]    Mentee        0        0                   0   \n",
              "1            [Frontend]    Mentee        0        0                   0   \n",
              "2             [Backend]    Mentee        0        1                   0   \n",
              "3             [Android]    Mentee        1        0                   0   \n",
              "4  [Career Development]    Mentee        0        0                   1   \n",
              "\n",
              "   Data Science  Design UI/UX  Frontend  iOS  \n",
              "0             0             0         0    1  \n",
              "1             0             0         1    0  \n",
              "2             0             0         0    0  \n",
              "3             0             0         0    0  \n",
              "4             0             0         0    0  "
            ]
          },
          "execution_count": 108,
          "metadata": {},
          "output_type": "execute_result"
        }
      ],
      "source": [
        "mentees_encoded.head()"
      ]
    },
    {
      "cell_type": "markdown",
      "metadata": {
        "id": "Uers_J5pIFiU"
      },
      "source": [
        "##### Mentors data frame"
      ]
    },
    {
      "cell_type": "code",
      "execution_count": 94,
      "metadata": {
        "id": "8koAJEfMIIKk"
      },
      "outputs": [],
      "source": [
        "mentors_encoded = mentors.join(pd.DataFrame(mlb.fit_transform(mentors['tech_stack']),\n",
        "                          columns=mlb.classes_,\n",
        "                          index=mentors.index))"
      ]
    },
    {
      "cell_type": "code",
      "execution_count": 96,
      "metadata": {
        "colab": {
          "base_uri": "https://localhost:8080/",
          "height": 1000
        },
        "id": "ubmErZVhIMuE",
        "outputId": "7c336f01-15ea-4fd2-9a81-bfd3678f933f"
      },
      "outputs": [
        {
          "data": {
            "text/html": [
              "<div>\n",
              "<style scoped>\n",
              "    .dataframe tbody tr th:only-of-type {\n",
              "        vertical-align: middle;\n",
              "    }\n",
              "\n",
              "    .dataframe tbody tr th {\n",
              "        vertical-align: top;\n",
              "    }\n",
              "\n",
              "    .dataframe thead th {\n",
              "        text-align: right;\n",
              "    }\n",
              "</style>\n",
              "<table border=\"1\" class=\"dataframe\">\n",
              "  <thead>\n",
              "    <tr style=\"text-align: right;\">\n",
              "      <th></th>\n",
              "      <th>tech_stack</th>\n",
              "      <th>user_role</th>\n",
              "      <th>Android</th>\n",
              "      <th>Backend</th>\n",
              "      <th>Career Development</th>\n",
              "      <th>Data Science</th>\n",
              "      <th>Design UI/UX</th>\n",
              "      <th>Frontend</th>\n",
              "      <th>iOS</th>\n",
              "    </tr>\n",
              "  </thead>\n",
              "  <tbody>\n",
              "    <tr>\n",
              "      <th>0</th>\n",
              "      <td>[Design UI/UX, Android, Career Development]</td>\n",
              "      <td>Mentor</td>\n",
              "      <td>1</td>\n",
              "      <td>0</td>\n",
              "      <td>1</td>\n",
              "      <td>0</td>\n",
              "      <td>1</td>\n",
              "      <td>0</td>\n",
              "      <td>0</td>\n",
              "    </tr>\n",
              "    <tr>\n",
              "      <th>1</th>\n",
              "      <td>[Frontend]</td>\n",
              "      <td>Mentor</td>\n",
              "      <td>0</td>\n",
              "      <td>0</td>\n",
              "      <td>0</td>\n",
              "      <td>0</td>\n",
              "      <td>0</td>\n",
              "      <td>1</td>\n",
              "      <td>0</td>\n",
              "    </tr>\n",
              "    <tr>\n",
              "      <th>2</th>\n",
              "      <td>[Frontend, Android]</td>\n",
              "      <td>Mentor</td>\n",
              "      <td>1</td>\n",
              "      <td>0</td>\n",
              "      <td>0</td>\n",
              "      <td>0</td>\n",
              "      <td>0</td>\n",
              "      <td>1</td>\n",
              "      <td>0</td>\n",
              "    </tr>\n",
              "    <tr>\n",
              "      <th>3</th>\n",
              "      <td>[Design UI/UX, Android, Frontend]</td>\n",
              "      <td>Mentor</td>\n",
              "      <td>1</td>\n",
              "      <td>0</td>\n",
              "      <td>0</td>\n",
              "      <td>0</td>\n",
              "      <td>1</td>\n",
              "      <td>1</td>\n",
              "      <td>0</td>\n",
              "    </tr>\n",
              "    <tr>\n",
              "      <th>4</th>\n",
              "      <td>[Design UI/UX]</td>\n",
              "      <td>Mentor</td>\n",
              "      <td>0</td>\n",
              "      <td>0</td>\n",
              "      <td>0</td>\n",
              "      <td>0</td>\n",
              "      <td>1</td>\n",
              "      <td>0</td>\n",
              "      <td>0</td>\n",
              "    </tr>\n",
              "  </tbody>\n",
              "</table>\n",
              "</div>"
            ],
            "text/plain": [
              "                                    tech_stack user_role  Android  Backend  \\\n",
              "0  [Design UI/UX, Android, Career Development]    Mentor        1        0   \n",
              "1                                   [Frontend]    Mentor        0        0   \n",
              "2                          [Frontend, Android]    Mentor        1        0   \n",
              "3            [Design UI/UX, Android, Frontend]    Mentor        1        0   \n",
              "4                               [Design UI/UX]    Mentor        0        0   \n",
              "\n",
              "   Career Development  Data Science  Design UI/UX  Frontend  iOS  \n",
              "0                   1             0             1         0    0  \n",
              "1                   0             0             0         1    0  \n",
              "2                   0             0             0         1    0  \n",
              "3                   0             0             1         1    0  \n",
              "4                   0             0             1         0    0  "
            ]
          },
          "execution_count": 96,
          "metadata": {},
          "output_type": "execute_result"
        }
      ],
      "source": [
        "mentors_encoded.head()"
      ]
    },
    {
      "cell_type": "markdown",
      "metadata": {},
      "source": [
        "Adjust `user_role` column title for better visualization display"
      ]
    },
    {
      "cell_type": "code",
      "execution_count": 97,
      "metadata": {
        "id": "DQinIEzaJTT7"
      },
      "outputs": [],
      "source": [
        "mentors_encoded.rename(columns={\"user_role\": \"User Role\"}, inplace=True)"
      ]
    },
    {
      "cell_type": "code",
      "execution_count": 109,
      "metadata": {
        "colab": {
          "base_uri": "https://localhost:8080/",
          "height": 1000
        },
        "id": "iCvvnln2JX1W",
        "outputId": "376e9929-d4e8-4b38-d4c6-fd18531ae399"
      },
      "outputs": [
        {
          "data": {
            "text/html": [
              "<div>\n",
              "<style scoped>\n",
              "    .dataframe tbody tr th:only-of-type {\n",
              "        vertical-align: middle;\n",
              "    }\n",
              "\n",
              "    .dataframe tbody tr th {\n",
              "        vertical-align: top;\n",
              "    }\n",
              "\n",
              "    .dataframe thead th {\n",
              "        text-align: right;\n",
              "    }\n",
              "</style>\n",
              "<table border=\"1\" class=\"dataframe\">\n",
              "  <thead>\n",
              "    <tr style=\"text-align: right;\">\n",
              "      <th></th>\n",
              "      <th>tech_stack</th>\n",
              "      <th>User Role</th>\n",
              "      <th>Android</th>\n",
              "      <th>Backend</th>\n",
              "      <th>Career Development</th>\n",
              "      <th>Data Science</th>\n",
              "      <th>Design UI/UX</th>\n",
              "      <th>Frontend</th>\n",
              "      <th>iOS</th>\n",
              "    </tr>\n",
              "  </thead>\n",
              "  <tbody>\n",
              "    <tr>\n",
              "      <th>0</th>\n",
              "      <td>[Design UI/UX, Android, Career Development]</td>\n",
              "      <td>Mentor</td>\n",
              "      <td>1</td>\n",
              "      <td>0</td>\n",
              "      <td>1</td>\n",
              "      <td>0</td>\n",
              "      <td>1</td>\n",
              "      <td>0</td>\n",
              "      <td>0</td>\n",
              "    </tr>\n",
              "    <tr>\n",
              "      <th>1</th>\n",
              "      <td>[Frontend]</td>\n",
              "      <td>Mentor</td>\n",
              "      <td>0</td>\n",
              "      <td>0</td>\n",
              "      <td>0</td>\n",
              "      <td>0</td>\n",
              "      <td>0</td>\n",
              "      <td>1</td>\n",
              "      <td>0</td>\n",
              "    </tr>\n",
              "    <tr>\n",
              "      <th>2</th>\n",
              "      <td>[Frontend, Android]</td>\n",
              "      <td>Mentor</td>\n",
              "      <td>1</td>\n",
              "      <td>0</td>\n",
              "      <td>0</td>\n",
              "      <td>0</td>\n",
              "      <td>0</td>\n",
              "      <td>1</td>\n",
              "      <td>0</td>\n",
              "    </tr>\n",
              "    <tr>\n",
              "      <th>3</th>\n",
              "      <td>[Design UI/UX, Android, Frontend]</td>\n",
              "      <td>Mentor</td>\n",
              "      <td>1</td>\n",
              "      <td>0</td>\n",
              "      <td>0</td>\n",
              "      <td>0</td>\n",
              "      <td>1</td>\n",
              "      <td>1</td>\n",
              "      <td>0</td>\n",
              "    </tr>\n",
              "    <tr>\n",
              "      <th>4</th>\n",
              "      <td>[Design UI/UX]</td>\n",
              "      <td>Mentor</td>\n",
              "      <td>0</td>\n",
              "      <td>0</td>\n",
              "      <td>0</td>\n",
              "      <td>0</td>\n",
              "      <td>1</td>\n",
              "      <td>0</td>\n",
              "      <td>0</td>\n",
              "    </tr>\n",
              "  </tbody>\n",
              "</table>\n",
              "</div>"
            ],
            "text/plain": [
              "                                    tech_stack User Role  Android  Backend  \\\n",
              "0  [Design UI/UX, Android, Career Development]    Mentor        1        0   \n",
              "1                                   [Frontend]    Mentor        0        0   \n",
              "2                          [Frontend, Android]    Mentor        1        0   \n",
              "3            [Design UI/UX, Android, Frontend]    Mentor        1        0   \n",
              "4                               [Design UI/UX]    Mentor        0        0   \n",
              "\n",
              "   Career Development  Data Science  Design UI/UX  Frontend  iOS  \n",
              "0                   1             0             1         0    0  \n",
              "1                   0             0             0         1    0  \n",
              "2                   0             0             0         1    0  \n",
              "3                   0             0             1         1    0  \n",
              "4                   0             0             1         0    0  "
            ]
          },
          "execution_count": 109,
          "metadata": {},
          "output_type": "execute_result"
        }
      ],
      "source": [
        "mentors_encoded.head()"
      ]
    },
    {
      "cell_type": "markdown",
      "metadata": {
        "id": "j2tNz9w2Lflk"
      },
      "source": [
        "### Getting Sum Totals"
      ]
    },
    {
      "cell_type": "code",
      "execution_count": 110,
      "metadata": {
        "colab": {
          "base_uri": "https://localhost:8080/"
        },
        "id": "_p7K477EHR2v",
        "outputId": "1227aacc-af5a-4f99-a0c0-d41107dce044"
      },
      "outputs": [
        {
          "data": {
            "text/plain": [
              "tech_stack            [iOS, Frontend, Backend, Android, Career Devel...\n",
              "User Role             MenteeMenteeMenteeMenteeMenteeMenteeMenteeMent...\n",
              "Android                                                               6\n",
              "Backend                                                              21\n",
              "Career Development                                                   18\n",
              "Data Science                                                         20\n",
              "Design UI/UX                                                         10\n",
              "Frontend                                                             11\n",
              "iOS                                                                  14\n",
              "dtype: object"
            ]
          },
          "execution_count": 110,
          "metadata": {},
          "output_type": "execute_result"
        }
      ],
      "source": [
        "mentees_encoded.sum()"
      ]
    },
    {
      "cell_type": "code",
      "execution_count": 111,
      "metadata": {
        "colab": {
          "base_uri": "https://localhost:8080/"
        },
        "id": "NJVZ0lQPMMYY",
        "outputId": "5f6dba33-0e6f-4b05-e369-c716abaf8044"
      },
      "outputs": [
        {
          "data": {
            "text/plain": [
              "tech_stack            [Design UI/UX, Android, Career Development, Fr...\n",
              "User Role             MentorMentorMentorMentorMentorMentorMentorMent...\n",
              "Android                                                               7\n",
              "Backend                                                               2\n",
              "Career Development                                                    5\n",
              "Data Science                                                          6\n",
              "Design UI/UX                                                          5\n",
              "Frontend                                                              5\n",
              "iOS                                                                   3\n",
              "dtype: object"
            ]
          },
          "execution_count": 111,
          "metadata": {},
          "output_type": "execute_result"
        }
      ],
      "source": [
        "mentors_encoded.sum()"
      ]
    },
    {
      "cell_type": "markdown",
      "metadata": {},
      "source": [
        "Create a data frame with Mentee sums"
      ]
    },
    {
      "cell_type": "code",
      "execution_count": 115,
      "metadata": {
        "colab": {
          "base_uri": "https://localhost:8080/",
          "height": 269
        },
        "id": "65aiPVboMSxY",
        "outputId": "9eda9a9a-2d54-4c62-aade-1a812b99ad99"
      },
      "outputs": [
        {
          "data": {
            "text/html": [
              "<div>\n",
              "<style scoped>\n",
              "    .dataframe tbody tr th:only-of-type {\n",
              "        vertical-align: middle;\n",
              "    }\n",
              "\n",
              "    .dataframe tbody tr th {\n",
              "        vertical-align: top;\n",
              "    }\n",
              "\n",
              "    .dataframe thead th {\n",
              "        text-align: right;\n",
              "    }\n",
              "</style>\n",
              "<table border=\"1\" class=\"dataframe\">\n",
              "  <thead>\n",
              "    <tr style=\"text-align: right;\">\n",
              "      <th></th>\n",
              "      <th>Tech Stack</th>\n",
              "      <th>Count</th>\n",
              "      <th>User Role</th>\n",
              "    </tr>\n",
              "  </thead>\n",
              "  <tbody>\n",
              "    <tr>\n",
              "      <th>2</th>\n",
              "      <td>Android</td>\n",
              "      <td>6</td>\n",
              "      <td>Mentee</td>\n",
              "    </tr>\n",
              "    <tr>\n",
              "      <th>3</th>\n",
              "      <td>Backend</td>\n",
              "      <td>21</td>\n",
              "      <td>Mentee</td>\n",
              "    </tr>\n",
              "    <tr>\n",
              "      <th>4</th>\n",
              "      <td>Career Development</td>\n",
              "      <td>18</td>\n",
              "      <td>Mentee</td>\n",
              "    </tr>\n",
              "    <tr>\n",
              "      <th>5</th>\n",
              "      <td>Data Science</td>\n",
              "      <td>20</td>\n",
              "      <td>Mentee</td>\n",
              "    </tr>\n",
              "    <tr>\n",
              "      <th>6</th>\n",
              "      <td>Design UI/UX</td>\n",
              "      <td>10</td>\n",
              "      <td>Mentee</td>\n",
              "    </tr>\n",
              "    <tr>\n",
              "      <th>7</th>\n",
              "      <td>Frontend</td>\n",
              "      <td>11</td>\n",
              "      <td>Mentee</td>\n",
              "    </tr>\n",
              "    <tr>\n",
              "      <th>8</th>\n",
              "      <td>iOS</td>\n",
              "      <td>14</td>\n",
              "      <td>Mentee</td>\n",
              "    </tr>\n",
              "  </tbody>\n",
              "</table>\n",
              "</div>"
            ],
            "text/plain": [
              "           Tech Stack Count User Role\n",
              "2             Android     6    Mentee\n",
              "3             Backend    21    Mentee\n",
              "4  Career Development    18    Mentee\n",
              "5        Data Science    20    Mentee\n",
              "6        Design UI/UX    10    Mentee\n",
              "7            Frontend    11    Mentee\n",
              "8                 iOS    14    Mentee"
            ]
          },
          "execution_count": 115,
          "metadata": {},
          "output_type": "execute_result"
        }
      ],
      "source": [
        "mentees_stack_sums = pd.DataFrame(mentees_encoded.sum())\n",
        "mentees_stack_sums.reset_index(inplace=True)\n",
        "mentees_stack_sums.rename(columns={\"index\": \"Tech Stack\", 0: \"Count\"}, inplace=True)\n",
        "mentees_stack_sums.drop(index=[0, 1], inplace=True)\n",
        "mentees_stack_sums[\"User Role\"] = \"Mentee\"\n",
        "\n",
        "mentees_stack_sums"
      ]
    },
    {
      "cell_type": "markdown",
      "metadata": {},
      "source": [
        "Create a data frame with Mentor sums"
      ]
    },
    {
      "cell_type": "code",
      "execution_count": 114,
      "metadata": {
        "colab": {
          "base_uri": "https://localhost:8080/",
          "height": 269
        },
        "id": "pQ51NGiOa91z",
        "outputId": "0f5f375f-acf1-4116-d154-2f262eed1c81"
      },
      "outputs": [
        {
          "data": {
            "text/html": [
              "<div>\n",
              "<style scoped>\n",
              "    .dataframe tbody tr th:only-of-type {\n",
              "        vertical-align: middle;\n",
              "    }\n",
              "\n",
              "    .dataframe tbody tr th {\n",
              "        vertical-align: top;\n",
              "    }\n",
              "\n",
              "    .dataframe thead th {\n",
              "        text-align: right;\n",
              "    }\n",
              "</style>\n",
              "<table border=\"1\" class=\"dataframe\">\n",
              "  <thead>\n",
              "    <tr style=\"text-align: right;\">\n",
              "      <th></th>\n",
              "      <th>Tech Stack</th>\n",
              "      <th>Count</th>\n",
              "      <th>User Role</th>\n",
              "    </tr>\n",
              "  </thead>\n",
              "  <tbody>\n",
              "    <tr>\n",
              "      <th>2</th>\n",
              "      <td>Android</td>\n",
              "      <td>7</td>\n",
              "      <td>Mentor</td>\n",
              "    </tr>\n",
              "    <tr>\n",
              "      <th>3</th>\n",
              "      <td>Backend</td>\n",
              "      <td>2</td>\n",
              "      <td>Mentor</td>\n",
              "    </tr>\n",
              "    <tr>\n",
              "      <th>4</th>\n",
              "      <td>Career Development</td>\n",
              "      <td>5</td>\n",
              "      <td>Mentor</td>\n",
              "    </tr>\n",
              "    <tr>\n",
              "      <th>5</th>\n",
              "      <td>Data Science</td>\n",
              "      <td>6</td>\n",
              "      <td>Mentor</td>\n",
              "    </tr>\n",
              "    <tr>\n",
              "      <th>6</th>\n",
              "      <td>Design UI/UX</td>\n",
              "      <td>5</td>\n",
              "      <td>Mentor</td>\n",
              "    </tr>\n",
              "    <tr>\n",
              "      <th>7</th>\n",
              "      <td>Frontend</td>\n",
              "      <td>5</td>\n",
              "      <td>Mentor</td>\n",
              "    </tr>\n",
              "    <tr>\n",
              "      <th>8</th>\n",
              "      <td>iOS</td>\n",
              "      <td>3</td>\n",
              "      <td>Mentor</td>\n",
              "    </tr>\n",
              "  </tbody>\n",
              "</table>\n",
              "</div>"
            ],
            "text/plain": [
              "           Tech Stack Count User Role\n",
              "2             Android     7    Mentor\n",
              "3             Backend     2    Mentor\n",
              "4  Career Development     5    Mentor\n",
              "5        Data Science     6    Mentor\n",
              "6        Design UI/UX     5    Mentor\n",
              "7            Frontend     5    Mentor\n",
              "8                 iOS     3    Mentor"
            ]
          },
          "execution_count": 114,
          "metadata": {},
          "output_type": "execute_result"
        }
      ],
      "source": [
        "mentors_stack_sums = pd.DataFrame(mentors_encoded.sum())\n",
        "mentors_stack_sums.reset_index(inplace=True)\n",
        "mentors_stack_sums.rename(columns={\"index\": \"Tech Stack\", 0: \"Count\"}, inplace=True)\n",
        "mentors_stack_sums.drop(index=[0, 1], inplace=True)\n",
        "mentors_stack_sums[\"User Role\"] = \"Mentor\"\n",
        "\n",
        "mentors_stack_sums"
      ]
    },
    {
      "cell_type": "markdown",
      "metadata": {},
      "source": [
        "Create the final data frame to use for visualizations"
      ]
    },
    {
      "cell_type": "code",
      "execution_count": 116,
      "metadata": {
        "colab": {
          "base_uri": "https://localhost:8080/",
          "height": 488
        },
        "id": "Zt3swI0NbnQO",
        "outputId": "e4cbf588-4023-490b-c49c-994fb1324336"
      },
      "outputs": [
        {
          "data": {
            "text/html": [
              "<div>\n",
              "<style scoped>\n",
              "    .dataframe tbody tr th:only-of-type {\n",
              "        vertical-align: middle;\n",
              "    }\n",
              "\n",
              "    .dataframe tbody tr th {\n",
              "        vertical-align: top;\n",
              "    }\n",
              "\n",
              "    .dataframe thead th {\n",
              "        text-align: right;\n",
              "    }\n",
              "</style>\n",
              "<table border=\"1\" class=\"dataframe\">\n",
              "  <thead>\n",
              "    <tr style=\"text-align: right;\">\n",
              "      <th></th>\n",
              "      <th>Tech Stack</th>\n",
              "      <th>Count</th>\n",
              "      <th>User Role</th>\n",
              "    </tr>\n",
              "  </thead>\n",
              "  <tbody>\n",
              "    <tr>\n",
              "      <th>2</th>\n",
              "      <td>Android</td>\n",
              "      <td>6</td>\n",
              "      <td>Mentee</td>\n",
              "    </tr>\n",
              "    <tr>\n",
              "      <th>3</th>\n",
              "      <td>Backend</td>\n",
              "      <td>21</td>\n",
              "      <td>Mentee</td>\n",
              "    </tr>\n",
              "    <tr>\n",
              "      <th>4</th>\n",
              "      <td>Career Development</td>\n",
              "      <td>18</td>\n",
              "      <td>Mentee</td>\n",
              "    </tr>\n",
              "    <tr>\n",
              "      <th>5</th>\n",
              "      <td>Data Science</td>\n",
              "      <td>20</td>\n",
              "      <td>Mentee</td>\n",
              "    </tr>\n",
              "    <tr>\n",
              "      <th>6</th>\n",
              "      <td>Design UI/UX</td>\n",
              "      <td>10</td>\n",
              "      <td>Mentee</td>\n",
              "    </tr>\n",
              "    <tr>\n",
              "      <th>7</th>\n",
              "      <td>Frontend</td>\n",
              "      <td>11</td>\n",
              "      <td>Mentee</td>\n",
              "    </tr>\n",
              "    <tr>\n",
              "      <th>8</th>\n",
              "      <td>iOS</td>\n",
              "      <td>14</td>\n",
              "      <td>Mentee</td>\n",
              "    </tr>\n",
              "    <tr>\n",
              "      <th>2</th>\n",
              "      <td>Android</td>\n",
              "      <td>7</td>\n",
              "      <td>Mentor</td>\n",
              "    </tr>\n",
              "    <tr>\n",
              "      <th>3</th>\n",
              "      <td>Backend</td>\n",
              "      <td>2</td>\n",
              "      <td>Mentor</td>\n",
              "    </tr>\n",
              "    <tr>\n",
              "      <th>4</th>\n",
              "      <td>Career Development</td>\n",
              "      <td>5</td>\n",
              "      <td>Mentor</td>\n",
              "    </tr>\n",
              "    <tr>\n",
              "      <th>5</th>\n",
              "      <td>Data Science</td>\n",
              "      <td>6</td>\n",
              "      <td>Mentor</td>\n",
              "    </tr>\n",
              "    <tr>\n",
              "      <th>6</th>\n",
              "      <td>Design UI/UX</td>\n",
              "      <td>5</td>\n",
              "      <td>Mentor</td>\n",
              "    </tr>\n",
              "    <tr>\n",
              "      <th>7</th>\n",
              "      <td>Frontend</td>\n",
              "      <td>5</td>\n",
              "      <td>Mentor</td>\n",
              "    </tr>\n",
              "    <tr>\n",
              "      <th>8</th>\n",
              "      <td>iOS</td>\n",
              "      <td>3</td>\n",
              "      <td>Mentor</td>\n",
              "    </tr>\n",
              "  </tbody>\n",
              "</table>\n",
              "</div>"
            ],
            "text/plain": [
              "           Tech Stack Count User Role\n",
              "2             Android     6    Mentee\n",
              "3             Backend    21    Mentee\n",
              "4  Career Development    18    Mentee\n",
              "5        Data Science    20    Mentee\n",
              "6        Design UI/UX    10    Mentee\n",
              "7            Frontend    11    Mentee\n",
              "8                 iOS    14    Mentee\n",
              "2             Android     7    Mentor\n",
              "3             Backend     2    Mentor\n",
              "4  Career Development     5    Mentor\n",
              "5        Data Science     6    Mentor\n",
              "6        Design UI/UX     5    Mentor\n",
              "7            Frontend     5    Mentor\n",
              "8                 iOS     3    Mentor"
            ]
          },
          "execution_count": 116,
          "metadata": {},
          "output_type": "execute_result"
        }
      ],
      "source": [
        "tech_stack_sums = pd.concat([mentees_stack_sums, mentors_stack_sums], axis=0)\n",
        "tech_stack_sums"
      ]
    },
    {
      "cell_type": "markdown",
      "metadata": {
        "id": "EooEk3P1pvh2"
      },
      "source": [
        "# Final Visualization"
      ]
    },
    {
      "cell_type": "code",
      "execution_count": 118,
      "metadata": {
        "colab": {
          "base_uri": "https://localhost:8080/",
          "height": 433
        },
        "id": "NCfbsohVp21f",
        "outputId": "3d6d8073-a815-4500-8d55-74315227c382"
      },
      "outputs": [
        {
          "data": {
            "text/html": [
              "\n",
              "<div id=\"altair-viz-8302551a0bb84ef9b05b39ddc9d9d034\"></div>\n",
              "<script type=\"text/javascript\">\n",
              "  var VEGA_DEBUG = (typeof VEGA_DEBUG == \"undefined\") ? {} : VEGA_DEBUG;\n",
              "  (function(spec, embedOpt){\n",
              "    let outputDiv = document.currentScript.previousElementSibling;\n",
              "    if (outputDiv.id !== \"altair-viz-8302551a0bb84ef9b05b39ddc9d9d034\") {\n",
              "      outputDiv = document.getElementById(\"altair-viz-8302551a0bb84ef9b05b39ddc9d9d034\");\n",
              "    }\n",
              "    const paths = {\n",
              "      \"vega\": \"https://cdn.jsdelivr.net/npm//vega@5?noext\",\n",
              "      \"vega-lib\": \"https://cdn.jsdelivr.net/npm//vega-lib?noext\",\n",
              "      \"vega-lite\": \"https://cdn.jsdelivr.net/npm//vega-lite@4.17.0?noext\",\n",
              "      \"vega-embed\": \"https://cdn.jsdelivr.net/npm//vega-embed@6?noext\",\n",
              "    };\n",
              "\n",
              "    function maybeLoadScript(lib, version) {\n",
              "      var key = `${lib.replace(\"-\", \"\")}_version`;\n",
              "      return (VEGA_DEBUG[key] == version) ?\n",
              "        Promise.resolve(paths[lib]) :\n",
              "        new Promise(function(resolve, reject) {\n",
              "          var s = document.createElement('script');\n",
              "          document.getElementsByTagName(\"head\")[0].appendChild(s);\n",
              "          s.async = true;\n",
              "          s.onload = () => {\n",
              "            VEGA_DEBUG[key] = version;\n",
              "            return resolve(paths[lib]);\n",
              "          };\n",
              "          s.onerror = () => reject(`Error loading script: ${paths[lib]}`);\n",
              "          s.src = paths[lib];\n",
              "        });\n",
              "    }\n",
              "\n",
              "    function showError(err) {\n",
              "      outputDiv.innerHTML = `<div class=\"error\" style=\"color:red;\">${err}</div>`;\n",
              "      throw err;\n",
              "    }\n",
              "\n",
              "    function displayChart(vegaEmbed) {\n",
              "      vegaEmbed(outputDiv, spec, embedOpt)\n",
              "        .catch(err => showError(`Javascript Error: ${err.message}<br>This usually means there's a typo in your chart specification. See the javascript console for the full traceback.`));\n",
              "    }\n",
              "\n",
              "    if(typeof define === \"function\" && define.amd) {\n",
              "      requirejs.config({paths});\n",
              "      require([\"vega-embed\"], displayChart, err => showError(`Error loading script: ${err.message}`));\n",
              "    } else {\n",
              "      maybeLoadScript(\"vega\", \"5\")\n",
              "        .then(() => maybeLoadScript(\"vega-lite\", \"4.17.0\"))\n",
              "        .then(() => maybeLoadScript(\"vega-embed\", \"6\"))\n",
              "        .catch(showError)\n",
              "        .then(() => displayChart(vegaEmbed));\n",
              "    }\n",
              "  })({\"config\": {\"view\": {\"continuousWidth\": 400, \"continuousHeight\": 300}, \"title\": {\"fontSize\": 18}}, \"data\": {\"name\": \"data-3d8e97d075aadfc05653642426fa7e66\"}, \"mark\": {\"type\": \"bar\", \"size\": 30}, \"encoding\": {\"color\": {\"field\": \"User Role\", \"scale\": {\"scheme\": \"dark2\"}, \"type\": \"nominal\"}, \"column\": {\"field\": \"Tech Stack\", \"type\": \"nominal\"}, \"tooltip\": [{\"field\": \"Count\", \"type\": \"quantitative\"}, {\"field\": \"User Role\", \"type\": \"nominal\"}], \"x\": {\"axis\": {\"labels\": false, \"title\": null}, \"field\": \"User Role\", \"type\": \"nominal\"}, \"y\": {\"field\": \"Count\", \"scale\": {\"domain\": [0, 22.0]}, \"type\": \"quantitative\"}}, \"title\": \"Tech Stack Counts by Role\", \"width\": 100, \"$schema\": \"https://vega.github.io/schema/vega-lite/v4.17.0.json\", \"datasets\": {\"data-3d8e97d075aadfc05653642426fa7e66\": [{\"Tech Stack\": \"Android\", \"Count\": 6, \"User Role\": \"Mentee\"}, {\"Tech Stack\": \"Backend\", \"Count\": 21, \"User Role\": \"Mentee\"}, {\"Tech Stack\": \"Career Development\", \"Count\": 18, \"User Role\": \"Mentee\"}, {\"Tech Stack\": \"Data Science\", \"Count\": 20, \"User Role\": \"Mentee\"}, {\"Tech Stack\": \"Design UI/UX\", \"Count\": 10, \"User Role\": \"Mentee\"}, {\"Tech Stack\": \"Frontend\", \"Count\": 11, \"User Role\": \"Mentee\"}, {\"Tech Stack\": \"iOS\", \"Count\": 14, \"User Role\": \"Mentee\"}, {\"Tech Stack\": \"Android\", \"Count\": 7, \"User Role\": \"Mentor\"}, {\"Tech Stack\": \"Backend\", \"Count\": 2, \"User Role\": \"Mentor\"}, {\"Tech Stack\": \"Career Development\", \"Count\": 5, \"User Role\": \"Mentor\"}, {\"Tech Stack\": \"Data Science\", \"Count\": 6, \"User Role\": \"Mentor\"}, {\"Tech Stack\": \"Design UI/UX\", \"Count\": 5, \"User Role\": \"Mentor\"}, {\"Tech Stack\": \"Frontend\", \"Count\": 5, \"User Role\": \"Mentor\"}, {\"Tech Stack\": \"iOS\", \"Count\": 3, \"User Role\": \"Mentor\"}]}}, {\"mode\": \"vega-lite\"});\n",
              "</script>"
            ],
            "text/plain": [
              "alt.Chart(...)"
            ]
          },
          "execution_count": 118,
          "metadata": {},
          "output_type": "execute_result"
        }
      ],
      "source": [
        "alt.Chart(tech_stack_sums, title=\"Tech Stack Counts by Role\").mark_bar(size=30).encode(\n",
        "    column=alt.Column('Tech Stack'),\n",
        "    x=alt.X('User Role', axis=alt.Axis(labels=False, title=None)),\n",
        "    y=alt.Y('Count', scale=alt.Scale(domain=(0, (tech_stack_sums[\"Count\"].max() + 1)))),\n",
        "    color=alt.Color('User Role', scale=alt.Scale(scheme=\"dark2\")),\n",
        "    tooltip=alt.Tooltip(list(tech_stack_sums.columns)[1:])).properties(width=100).configure_title(fontSize=18)"
      ]
    }
  ],
  "metadata": {
    "colab": {
      "collapsed_sections": [],
      "name": "BL-390_TechStacksByRole_EDA_Visualizations_FINAL.ipynb",
      "provenance": []
    },
    "kernelspec": {
      "display_name": "Python 3.9.7 ('base')",
      "language": "python",
      "name": "python3"
    },
    "language_info": {
      "codemirror_mode": {
        "name": "ipython",
        "version": 3
      },
      "file_extension": ".py",
      "mimetype": "text/x-python",
      "name": "python",
      "nbconvert_exporter": "python",
      "pygments_lexer": "ipython3",
      "version": "3.9.7"
    },
    "vscode": {
      "interpreter": {
        "hash": "40d3a090f54c6569ab1632332b64b2c03c39dcf918b08424e98f38b5ae0af88f"
      }
    }
  },
  "nbformat": 4,
  "nbformat_minor": 0
}
